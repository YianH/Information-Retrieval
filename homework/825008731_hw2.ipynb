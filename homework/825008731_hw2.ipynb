{
 "cells": [
  {
   "cell_type": "markdown",
   "metadata": {},
   "source": [
    "#### CSCE 670 :: Information Storage and Retrieval :: Texas A&M University :: Spring 2018\n",
    "\n",
    "\n",
    "# Homework 2:  Link Analysis -- HITS + SEO\n",
    "\n",
    "### 100 points [5% of your final grade]\n",
    "\n",
    "### Due: Sunday, February 25, 2018 by 11:59pm\n",
    "\n",
    "*Goals of this homework:* Explore real-world challenges of building a graph (in this case, from tweets), implement and test HITS algortihm over this graph, and investigate factors that impact a page's rank on Google and Bing.\n",
    "\n",
    "*Submission Instructions:* To submit your homework, rename this notebook as YOUR_UIN_hw2.ipynb. Submit this notebook via ecampus. Your notebook should be completely self-contained, with the results visible in the notebook. \n",
    "\n",
    "*Late submission policy:* For this homework, you may use up to three of your late days, meaning that no submissions will be accepted after Wednesday, February 28, 2018 at 11:59pm."
   ]
  },
  {
   "cell_type": "markdown",
   "metadata": {},
   "source": [
    "# Part 1: HITS (70 points)\n",
    "\n",
    "## A re-Tweet Graph\n",
    "\n",
    "In this assignment, we're going to adapt the classic HITS approach to allow us to find not the most authoritative web pages, but rather to find significant Twitter users. So, instead of viewing the world as web pages with hyperlinks (where pages = nodes, hyperlinks = edges), we're going to construct a graph of Twitter users and their retweets of other Twitter users (so user = node, retweet of another user = edge). Over this Twitter-user graph, we can apply the HITS approach to order the users by their hub-ness and their authority-ness.\n",
    "\n",
    "Here is a toy example. Suppose you are given the following four retweets:\n",
    "\n",
    "* **userID**: diane, **text**: \"RT \", **sourceID**: bob\n",
    "* **userID**: charlie, **text**: \"RT Welcome\", **sourceID**: alice\n",
    "* **userID**: bob, **text**: \"RT Hi \", **sourceID**: diane\n",
    "* **userID**: alice, **text**: \"RT Howdy!\", **sourceID**: parisa\n",
    "\n",
    "There are four short tweets retweeted by four users. The retweet between users form a directed graph with five nodes and four edges. E.g., the \"diane\" node has a directed edge to the \"bob\" node.\n",
    "\n",
    "You should build a graph by parsing the tweets in the file we provide called *HITS.json*.\n",
    "\n",
    "**Notes:**\n",
    "\n",
    "* You may see some weird characters in the content of tweets, just ignore them. \n",
    "* The edges are weighted and directed. If Bob retweets Alice's tweets 10 times, there is an edge from Bob to Alice with weight 10, but there is not an edge from Alice to Bob.\n",
    "* If a user retweets herself, ignore it.\n",
    "* Correctly parsing screen_name in a tweet is error-prone. Use the id of the user (this is the user who is re-tweeting) and the id of the user in the retweeted_status field (this is the user who is being re-tweeted; that is, this user created the original tweet).\n",
    "* Later you will need to implement the HITS algorithm on the graph you build here.\n"
   ]
  },
  {
   "cell_type": "code",
   "execution_count": 2,
   "metadata": {},
   "outputs": [
    {
     "name": "stdout",
     "output_type": "stream",
     "text": [
      "[[0. 0. 0. ... 0. 0. 0.]\n",
      " [0. 0. 0. ... 0. 0. 0.]\n",
      " [0. 0. 0. ... 0. 0. 0.]\n",
      " ...\n",
      " [0. 0. 0. ... 0. 0. 0.]\n",
      " [0. 0. 0. ... 0. 0. 0.]\n",
      " [0. 0. 0. ... 0. 0. 0.]]\n"
     ]
    }
   ],
   "source": [
    "# your code here \n",
    "import numpy as np\n",
    "import os\n",
    "import json\n",
    "import urllib2\n",
    "import networkx as nx\n",
    "with open('/Users/huangyian/Desktop/HITS.json', 'r') as f:\n",
    "    file_lines = [''.join([x.strip(), ',', '\\n']) for x in f.readlines()]\n",
    "# print len(file_lines)\n",
    "output = open('/Users/huangyian/Desktop/h.json', 'w')\n",
    "output.write('[')\n",
    "with output as f:\n",
    "    for i in range(0, len(file_lines) - 1):\n",
    "        f.writelines(file_lines[i]) \n",
    "    lastline = file_lines[len(file_lines) - 1].strip()[:-1]\n",
    "    f.writelines(lastline)\n",
    "    f.write(']')\n",
    "output.close() \n",
    "\n",
    "with open('/Users/huangyian/Desktop/outfile.json', 'r') as f:\n",
    "    allfile = json.load(f)\n",
    "\n",
    "G = nx.DiGraph()\n",
    "for eachUser in allfile:\n",
    "    if (eachUser['user']['id']) == (eachUser['retweeted_status']['user']['id']):\n",
    "        continue\n",
    "    else:\n",
    "        source = eachUser['user']['id']\n",
    "        user = eachUser['retweeted_status']['user']['id']\n",
    "#         G.add_edge((eachUser['user']['id']),(eachUser['retweeted_status']['user']['id']),weight = eachUser['retweeted_status']['retweet_count']\n",
    "        if G.has_edge(source, user):\n",
    "            w = G[source][user]['weight']\n",
    "            G.add_edge(source,user,weight = w + 1)\n",
    "        else:\n",
    "            G.add_edge(source,user,weight = 1)\n",
    "    \n",
    "adjacency_matrix = nx.to_numpy_matrix(G)\n",
    "# //3052705430 and 3039321886.\n",
    "row = len(G)\n",
    "l = G.nodes()\n",
    "nodes = np.asarray(l)\n",
    "dictionary = {}\n",
    "for i in range(0, row):\n",
    "    dictionary[i] = nodes[i]\n",
    "print adjacency_matrix\n",
    "\n"
   ]
  },
  {
   "cell_type": "markdown",
   "metadata": {
    "collapsed": true
   },
   "source": [
    "We will not check the correctness of your graph. However, this will affect the HITS results later."
   ]
  },
  {
   "cell_type": "markdown",
   "metadata": {},
   "source": [
    "## HITS Implementation\n",
    "\n",
    "Your program will return the top 10 users with highest hub and authority scores. The **output** should be like:\n",
    "\n",
    "Hub Scores\n",
    "\n",
    "* user1 - score1\n",
    "* user2 - score2\n",
    "* ...\n",
    "* user10 - score10\n",
    "\n",
    "Authority Scores\n",
    "\n",
    "* user1 - score1\n",
    "* user2 - score2\n",
    "* ...\n",
    "* user10 - score10\n",
    "\n",
    "You should follow these **rules**:\n",
    "\n",
    "* Assume all nodes start out with equal scores.\n",
    "* It is up to you to decide when to terminate the HITS calculation.\n",
    "* There are HITS implementations out there on the web. Remember, your code should be **your own**.\n",
    "\n",
    "\n",
    "**Hints**:\n",
    "* If you're using the matrix style approach, you should use [numpy.matrix](https://docs.scipy.org/doc/numpy/reference/generated/numpy.matrix.html).\n",
    "* Scipy is built on top of Numpy and has support for sparse matrices. You most likely will not need to use Scipy unless you'd like to try out their sparse matrices.\n",
    "* If you choose to use Numpy (and Scipy), please make sure your Anaconda environment include their latest versions.\n",
    "* Test your parsing and HITS calculations using a handful of tweets, before moving on to the entire file we provide.\n",
    "* We will evaluate the user ranks you provide as well as the quality of your code. So make sure that your code is clear and readable."
   ]
  },
  {
   "cell_type": "code",
   "execution_count": 3,
   "metadata": {},
   "outputs": [
    {
     "name": "stdout",
     "output_type": "stream",
     "text": [
      "Top 20 authority scores:\n",
      "1 . 3042570996 0.5446248048789051\n",
      "2 . 3065514742 0.49321659986878863\n",
      "3 . 1638625987 0.4439307063060393\n",
      "4 . 3077733683 0.28659130814272554\n",
      "5 . 3039321886 0.22433355505187036\n",
      "6 . 3077695572 0.12188415726146554\n",
      "7 . 3019659587 0.11322781827450253\n",
      "8 . 1358345766 0.09803152133129721\n",
      "9 . 3061155846 0.09398530780220564\n",
      "10 . 3092580049 0.09367926178547767\n",
      "11 . 571198546 0.0815583527765113\n",
      "12 . 3068694151 0.0750801646278131\n",
      "13 . 3058933933 0.07165323065160539\n",
      "14 . 3154266823 0.07004226946434818\n",
      "15 . 3126638673 0.06305455799411037\n",
      "16 . 3082049188 0.06207068854237583\n",
      "17 . 610166901 0.05812165502285397\n",
      "18 . 3083157411 0.05776406549579737\n",
      "19 . 3190712044 0.05138631366298336\n",
      "20 . 3086054424 0.04639484142299678\n",
      "Top 20 hubs scores:\n",
      "1 . 3068706044 0.6231186081225087\n",
      "2 . 3093940760 0.29616066155009024\n",
      "3 . 2194518394 0.259872564249747\n",
      "4 . 2862783698 0.2025856567488808\n",
      "5 . 3092183276 0.170518449128319\n",
      "6 . 3029724797 0.16698984616196605\n",
      "7 . 2990704188 0.14773329728408705\n",
      "8 . 3001500121 0.144826519437681\n",
      "9 . 3086921438 0.12915071372153972\n",
      "10 . 3042686360 0.1252633748791497\n",
      "11 . 3092935664 0.1228141199644414\n",
      "12 . 3021183212 0.12091878749183486\n",
      "13 . 3118683560 0.1134149412703561\n",
      "14 . 3084868798 0.10203131529899612\n",
      "15 . 2935948649 0.10037059062648417\n",
      "16 . 3089225044 0.10033084025405095\n",
      "17 . 3064218544 0.08902948295203643\n",
      "18 . 3091417449 0.0836885888057475\n",
      "19 . 3059435226 0.07908627223186562\n",
      "20 . 3092863895 0.07882294213235595\n"
     ]
    }
   ],
   "source": [
    "# your code here\n",
    "import heapq\n",
    "# Transpose of adjacency matrix\n",
    "transposed_adjacency_matrix = adjacency_matrix.transpose()\n",
    "\n",
    "# Initialize the hubs and authorities\n",
    "hubs = np.ones((row, 1))\n",
    "authorities = np.ones((row, 1))\n",
    "\n",
    "iterate = 100\n",
    "while (iterate != 0):\n",
    "    hubs = adjacency_matrix * authorities \n",
    "    authorities = transposed_adjacency_matrix * hubs\n",
    "#     Normalize hubs and authorities matrices\n",
    "    hubs = hubs / np.linalg.norm(hubs)\n",
    "    authorities = authorities / np.linalg.norm(authorities)\n",
    "    iterate = iterate - 1\n",
    "\n",
    "print \"Top 20 authority scores:\"\n",
    "no = 1\n",
    "authorityList = authorities.getA1()\n",
    "for num in heapq.nlargest(20, authorityList):\n",
    "    auth_ind = np.where(authorityList == num)[0][0]\n",
    "    print no, \".\", dictionary.get(auth_ind), authorityList[auth_ind]\n",
    "    no += 1\n",
    "    \n",
    "print \"Top 20 hubs scores:\"\n",
    "no1 = 1\n",
    "hubList = hubs.getA1()\n",
    "for num in heapq.nlargest(20, hubList):\n",
    "    hub_ind = np.where(hubList == num)[0][0]\n",
    "    print no1, \".\", dictionary.get(hub_ind), hubList[hub_ind]\n",
    "    no1 += 1\n",
    "# # print hubs\n"
   ]
  },
  {
   "cell_type": "markdown",
   "metadata": {},
   "source": [
    "# Part 2: Search Engine Optimization (30 + 5 points)"
   ]
  },
  {
   "cell_type": "markdown",
   "metadata": {},
   "source": [
    "For this part, your goal is to put on your \"[search engine optimization](https://en.wikipedia.org/wiki/Search_engine_optimization)\" hat. Your job is to create a webpage that scores highest for the query: **kbeznak parmatonic** --- two terms, lower case, no quote. As of today (Feb 16, 2018), there are no hits for this query on either Google or Bing. Based on our discussions of search engine ranking algorithms, you know that several factors may impact a page's rank. Your goal is to use this knowledge to promote your own page to the top of the list.\n",
    "\n",
    "What we're doing here is a form of [SEO contest](https://en.wikipedia.org/wiki/SEO_contest). While you have great latitude in how you approach this problem, you are not allowed to engage in any unethical or illegal behavior. Please read the discussion of \"white hat\" versus \"black hat\" SEO over at [Wikipedia](https://en.wikipedia.org/wiki/Search_engine_optimization#White_hat_versus_black_hat_techniques).\n",
    "\n",
    "\n",
    "**Rules of the game:**\n",
    "\n",
    "* Somewhere in the page (possibly in the non-viewable source html) you must include your name or some other way for us to identify you (e.g., your NetID, but not the UIN!).\n",
    "* Your target page may only be a TAMU student page, a page on your own webserver, a page on a standard blog platform (e.g., wordpress), or some other primarily user-controlled page\n",
    "* Your target page CAN NOT be a twitter account, a facebook page, a Yahoo Answers or similar page\n",
    "* No wikipedia vandalism\n",
    "* No yahoo/wiki answers questions\n",
    "* No comment spamming of blogs\n",
    "* If you have concerns/questions/clarifications, please post on Piazza and we will discuss\n",
    "\n",
    "For your homework turnin for this part, you should provide us the URL of your target page and a brief discussion (2-4 paragraphs) of the strategies you are using. We will issue the query and check the rankings at some undetermined time in the next couple of weeks. You might guess that major search engines take some time to discover and integrate new pages: if I were you, I'd get a target page up immediately.\n",
    "\n",
    "**Grading:**\n",
    "\n",
    "* 5 points for providing a valid URL\n",
    "* 20 points for a well-reasoned discussion of your strategy\n",
    "* 5 points for your page appearing in the search results by Google or Bing (no matter how is the ranking)\n",
    "\n",
    "** Bonus: **\n",
    "* 1 point for your page appearing in the top-20 on Google or Bing\n",
    "* 1 more point for your page appearing in the top-10 on Google or Bing\n",
    "* 1 more point for your page appearing in the top-5 on Google or Bing\n",
    "* 2 more points for your page being ranked first by Google or Bing. And, a vigorous announcement in class, and a high-five for having the top result!"
   ]
  },
  {
   "cell_type": "markdown",
   "metadata": {},
   "source": [
    "What's the URL of your page?\n",
    "\n",
    "https://hdx1993.github.io/kbeznak-parmatonic/"
   ]
  },
  {
   "cell_type": "markdown",
   "metadata": {},
   "source": [
    "What's your strategy? (2-4 paragraphs)\n"
   ]
  },
  {
   "attachments": {},
   "cell_type": "markdown",
   "metadata": {
    "collapsed": true
   },
   "source": [
    "I use Github io the build the kbeznak parmatonic website: \n",
    "    https://hdx1993.github.io/kbeznak-parmatonic/\n",
    "To improve my page rank, firstly, I tried to improve my content’s quality. Instead of copying sentences from the internet, I wrote paragraphs on my own, as well as quoting some Wikipedia items such as SEO definition into my content. I assume the phrase kbeznak parmatonic is related to CSE670, information retrieval, Texas A&M University, Professor Caverlee, etc. Therefore, I tried to add links of these topics in my website and avoid irrelevant topics in my website. Additionally, to be a website with good quality, I update my website regularly. \n",
    "\n",
    "Also, I focus on inlinks and backlinks. My website has hyperlink toward good websites such as google, YouTube and Wikipedia, and also contains links towards other useful links, such as YouTube videos on kbeznak parmatonic. For the backlinks, I create blogs from other good websites because we are not allowed to use social media like facebook. For example, I wrote another blog on WordPress and Douban(a famous story-telling website in China) talking about kbeznak parmatonic. I pointed to https://hdx1993.github.io/kbeznak-parmatonic/ in my new blogs. Through these method, my page rank score will be improved.\n",
    "\n",
    "If I want website to be shown on google, adding my websites (both GitHub one: https://hdx1993.github.io/kbeznak-parmatonic/ and WordPress one: https://whatiskbeznakparmatonic.wordpress.com/) on google search console is necessary. After uploading html verification files or adding a meta tag to my site's home page, I could see my website on google if I google: site: https://hdx1993.github.io/kbeznak-parmatonic/."
   ]
  },
  {
   "cell_type": "code",
   "execution_count": null,
   "metadata": {
    "collapsed": true
   },
   "outputs": [],
   "source": []
  }
 ],
 "metadata": {
  "anaconda-cloud": {},
  "kernelspec": {
   "display_name": "Python 2",
   "language": "python",
   "name": "python2"
  },
  "language_info": {
   "codemirror_mode": {
    "name": "ipython",
    "version": 2
   },
   "file_extension": ".py",
   "mimetype": "text/x-python",
   "name": "python",
   "nbconvert_exporter": "python",
   "pygments_lexer": "ipython2",
   "version": "2.7.14"
  }
 },
 "nbformat": 4,
 "nbformat_minor": 1
}
