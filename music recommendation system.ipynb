{
 "cells": [
  {
   "cell_type": "markdown",
   "metadata": {},
   "source": [
    "<h1><center>Maximizing Aggregate Recommendation Diversity: A Graph-Theoretic Approach</center></h1>\n",
    "<h3><center>Course Project Demo for TAMU CSCE 670, Spring 2018</center></h3>\n",
    "<center>Bowen Li, Mianzhi Yang, Kai Zheng, Yian Huang</center>"
   ]
  },
  {
   "cell_type": "markdown",
   "metadata": {},
   "source": [
    "# 1. Introduction\n",
    "\n",
    "Recommendation system is very commonly used in the real world. Many recommendation techniques have been developed and put into production for years. Popular websites are using better recommendation to give users suggestions that people might be interested in. It is beneficial for both users and business models. Individuals could always find what they want while business models selling their recommended products to more users. For example, when a customer want to buy an iPad, Amazon will recommend other Apple products based on the data from other users who also interested in this iPad. How to design a good recommendation system becomes a hot topic. But how to tell if some recommendations are \"good\" or not?\n",
    "\n",
    "Major efforts in both academia and industry have been made to improve recommendation accuracy. Granted, high accuracy is fundamental to a good recommender, but it has been increasingly noted that it is not sufficient to have accuracy as the only metric in measuring recommendation quality. Some other important dimensions should be evaluated as well, such as diversity, novelty, serendipity, confidence, trust, etc. In this way, recommendations can be not only accurate but also useful to users.\n",
    "\n",
    "Out of so many evaluation metrics, we would like to concentrate on improving the aggregate diversity of recommendations. Recommendation system focused on diversity plays a key role in increasing \"long tail\" effects. Users' awareness of niche products increased and therefore create a long tail in the distribution of product sales. For example, some business models (e.g. Netflix), can benefit from recommendation diversity, because more diverse recommendations would encourage users to rent more \"long-tail\" movies, which are less costly to license and acquire from distributors than new releases or extremely popular movies of big studios. Thus the aggregate diversity has impact on product variety and can affect sales concentration in practice.\n",
    "\n",
    "Previous studies showed that there is an inherent tradeoff between accuracy and diversity. Therefore, maintaining accuracy while improving diversity constitutes a difficult task. Research has already found that significant diversity improvements can be obtained with increasingly smaller sacrifices to recommendation accuracy. While gaining much diversity while losing accuracy only slightly is generally acceptable, we still need to find a balance between these two factors. To evaluate accuracy, we calculated the average rating values of recommended items using for all recommendation algorithms because it is highly correlated with precision. To evaluate diversity, we use a simple absolute long-tail metric using the total number of distinct items among the top-N items recommended.\n",
    "\n",
    "In this Demo project, we implemented a sophisticated algorithm that transform the problem of maxmizing aggregate diversity into a maximum flow problem. We paid more attention on the way to find the best set of recommendations and evaluated our implementation by examining all the recommendations that were given to all the users. We compared our graph-based method to the standard ranking method as well as the traditional re-ranking method. And we evaluate the relationships between the recommendation accuracy and the diversity. Our result showed that the graph-based approach can provide hugh diversity improvement at the cost of very little accuracy. Also, we can adjust the tolerance of accuracy loss to further tune the recommender."
   ]
  },
  {
   "cell_type": "markdown",
   "metadata": {},
   "source": [
    "# 2. Related Work\n",
    "\n",
    "We have found several literatures that are useful for our project.\n",
    "\n",
    "\\[1\\] proposed an approach that can greatly improve aggregate recommendation diversity at the cost of a little accuracy, by transforming the problem of maxmizing aggregate diversity into a maximum flow problem. Our project basically implements the algorithm introduced in this paper, so it is fundamental for the project.\n",
    "\n",
    "\\[2\\] introduced some classic CF algorithms that we found useful to build a recommender. It provides a solid foundation for us to further do our job i.e. improving the aggregate recommendation diversity.\n",
    "\n",
    "\\[3\\] is a very famous blog post that discussed about latent factor model. We implemented matrix factorization CF according to the steps described in it.\n",
    "\n",
    "There are some other existing studies on improving aggregate diversity of recommendations. \\[4\\] introduced a new recommendation idea called LCSC that generates recommendations from those who previously recommended the target customers successfully while CF generates recommendations from those who are most similar to the target customer, and this method are shown to improve aggregate recommendation diversity. \\[5\\] proposed a long tail music recommender systems by removing popular artists in the rating prediction phase.\n",
    "\n",
    "For the purpose of generating graph and solving maximum flow problem, we make use a third-party Python library called NetworkX \\[6\\] in the project.\n",
    "\n",
    "References:\n",
    "\n",
    "\\[1\\] Adomavicius, G., & Kwon, Y. O. (2011). Maximizing aggregate recommendation diversity: A graph-theoretic approach. CEUR Workshop Proceedings, 816, 3-10.\n",
    "\n",
    "\\[2\\] John S. Breese, David Heckerman, and Carl Kadie. 1998. Empirical analysis of predictive algorithms for collaborative filtering. In Proceedings of the Fourteenth conference on Uncertainty in artificial intelligence (UAI'98), Gregory F. Cooper and Serafín Moral (Eds.). Morgan Kaufmann Publishers Inc., San Francisco, CA, USA, 43-52.\n",
    "\n",
    "\\[3\\] Simon Funk. (2006). Netflix Update: Try This at Home. http://sifter.org/simon/journal/20061211.html\n",
    "\n",
    "\\[4\\] Y.U. Ryu, J.K. Kim, & H.K. Kim. (2013). A Local Scoring Model for Diversified Recommendation. Proceedings of the 34th International Conference on Information Systems.\n",
    "\n",
    "\\[5\\] J. Liu, M. Shang and D. Chen. (2009). Personal Recommendation Based on Weighted Bipartite Networks. Sixth International Conference on Fuzzy Systems and Knowledge Discovery, 134-137.\n",
    "\n",
    "\\[6\\] NetworkX developers. (2018). Networkx. https://networkx.github.io/"
   ]
  },
  {
   "cell_type": "markdown",
   "metadata": {},
   "source": [
    "# 3. Preparations\n",
    "\n",
    "To solve the problem of maximizing aggregate recommendation diversity, we need to prepare several things.\n",
    "\n",
    "First of all, we need to build a recommendation system. We will discuss the rating prediction algorithms and how to generate recommendations from the predicted ratings using ranking functions. We will also show our implementations to provide a sound basis for the following tasks.\n",
    "\n",
    "Then, we want to introducce the concept of accuracy and diversity in the context of recommendation systems and how can we calculate these two metrics from recommendations.\n",
    "\n",
    "After that, we want to discuss a simple existing re-ranking algorithm that has the ability to improve the aggregate diversity without harming too much of of accuracy. We think this can serve as a baseline for comparison with our proposed approach in the next chatper."
   ]
  },
  {
   "cell_type": "markdown",
   "metadata": {},
   "source": [
    "## 3.1. Recommendation Algorithms\n",
    "\n",
    "The dataset we are using is from MovieLens available at [GroupLens](https://grouplens.org/). The data is stored in a `.csv` file and it has three columns that are `userId`, `movieId` and `rating`.\n",
    "\n",
    "Since we do not care the nature of movie in this project, in the following sections we will refer them as \"items\" intead of \"movies\".\n",
    "\n",
    "The code below is to read and pre-process the data:"
   ]
  },
  {
   "cell_type": "code",
   "execution_count": 1,
   "metadata": {},
   "outputs": [
    {
     "name": "stdout",
     "output_type": "stream",
     "text": [
      "number of users: 91\n",
      "number of items: 2889\n"
     ]
    }
   ],
   "source": [
    "# load the training data\n",
    "\n",
    "from tqdm import tqdm\n",
    "tqdm.monitor_interval = 0\n",
    "\n",
    "def load_data(number_of_lines=1000):\n",
    "    with open('ratings_origin.csv', 'r') as training_file:\n",
    "        ratings = {}\n",
    "        users = set()\n",
    "        items = set()\n",
    "    \n",
    "        # slice to [1:] to ignore the csv header\n",
    "        training_data = training_file.read().splitlines()[1:]\n",
    "        \n",
    "        i = 0\n",
    "        \n",
    "        for line in training_data:\n",
    "            parts = line.split(',')\n",
    "            user = int(parts[0])\n",
    "            item = int(parts[1])\n",
    "            rating = float(parts[2])\n",
    "\n",
    "            users.add(user)\n",
    "            items.add(item)\n",
    "\n",
    "            if user not in ratings:\n",
    "                ratings[user] = {}\n",
    "\n",
    "            ratings[user][item] = rating\n",
    "            \n",
    "            i += 1\n",
    "            if i == number_of_lines:\n",
    "                break\n",
    "        \n",
    "        return ratings, users, items\n",
    "\n",
    "number_of_ratings = 10000\n",
    "\n",
    "# ratings: each user's rated item and its rating\n",
    "# {user: {item: rating}}\n",
    "ratings, users, items = load_data(number_of_ratings)\n",
    "\n",
    "print 'number of users: %d' % len(users)\n",
    "print 'number of items: %d' % len(items)"
   ]
  },
  {
   "cell_type": "markdown",
   "metadata": {},
   "source": [
    "After pre-processing our data, we then have two sets of users and items. Let $U$ be the set of users and $I$ be the set of items in our dataset, the rating one user $u$ have for any random item $i$ is denoted as $R(u,i)$.\n",
    "\n",
    "Next, we need to predict all the unknown ratings based on all the known ratings. The predicted rating from one user $u$ to item $i$ is denoted as $R^*(u,i)$.\n",
    "\n",
    "The code below is to store each user's unknown ratings:"
   ]
  },
  {
   "cell_type": "code",
   "execution_count": 2,
   "metadata": {},
   "outputs": [],
   "source": [
    "# set of items that a user hasn't rated\n",
    "# {user: set(item_id)}\n",
    "unknown_ratings = {}\n",
    "\n",
    "for user in users:\n",
    "    unknown_ratings[user] = set()\n",
    "\n",
    "for user in users:\n",
    "    for item in items:\n",
    "        if item not in ratings[user]:\n",
    "            unknown_ratings[user].add(item)"
   ]
  },
  {
   "cell_type": "markdown",
   "metadata": {},
   "source": [
    "### 3.1.1. Neighborhood-based CF\n",
    "\n",
    "The first algorithm we used to predict the unknown ratings is Neighborhood-based CF. The basic idea of neighborhood-based CF method is to find the nearest neighbor of the target user and predict the unknown ratings based on the similar users."
   ]
  },
  {
   "cell_type": "markdown",
   "metadata": {},
   "source": [
    "To prepare data for the following steps, we need to first calculate each user's average rating based on all his/her know ratings:\n",
    "\n",
    "$$Avg_u=\\frac{1}{\\lvert I_u\\rvert}\\sum_{j\\in I_u}{R(u,i)}$$"
   ]
  },
  {
   "cell_type": "code",
   "execution_count": 3,
   "metadata": {},
   "outputs": [],
   "source": [
    "# the average rating of all the ratings from a user\n",
    "# {user: average_rating}\n",
    "average_ratings = {}\n",
    "\n",
    "for user in users:\n",
    "    ratings_of_user = ratings[user].values()\n",
    "    average_rating = sum(ratings_of_user) / len(ratings_of_user)\n",
    "    average_ratings[user] = average_rating"
   ]
  },
  {
   "cell_type": "markdown",
   "metadata": {},
   "source": [
    "We also would like to know if there are some users that rate all items the same rating."
   ]
  },
  {
   "cell_type": "code",
   "execution_count": 4,
   "metadata": {},
   "outputs": [
    {
     "name": "stderr",
     "output_type": "stream",
     "text": [
      "100%|██████████| 91/91 [00:00<?, ?it/s]\n"
     ]
    }
   ],
   "source": [
    "# set of users whose ratings are all the same\n",
    "# in the get_weight_correlation(user_a, user_i) function, if one in (user_a, user_i) is such a user, the weight will be 0\n",
    "one_rating_users = set()\n",
    "\n",
    "for user in tqdm(users):\n",
    "    ratings_of_user = ratings[user].values()\n",
    "    first_rating = ratings_of_user[0]\n",
    "    all_same = True\n",
    "    for rating in ratings_of_user:\n",
    "        if first_rating != rating:\n",
    "            all_same = False\n",
    "            break\n",
    "    if all_same:\n",
    "        one_rating_users.add(user)"
   ]
  },
  {
   "cell_type": "markdown",
   "metadata": {},
   "source": [
    "We implemented several \"weight\" functions based on different theories.\n",
    "\n",
    "The first is to calcuate weight by Pearson correlation, which was defined as the basis for the weights.\n",
    "\n",
    "The correlation between user $u$ and user $v$ is:\n",
    "\n",
    "$$W_{Pearson\\_correlation}(u,v)=\\frac{\\sum_i{(R(u,i)-Avg_u)(R(u,i)-Avg_v)}}{\\sum_i{(R(u,i)-Avg_u)^2}\\sum_i{(R(u,i)-Avg_v)}^2}$$\n",
    "\n",
    "where the summations over $i$ are over the items for which both users $u$ and $v$ have ratings."
   ]
  },
  {
   "cell_type": "code",
   "execution_count": 5,
   "metadata": {},
   "outputs": [],
   "source": [
    "import math\n",
    "\n",
    "cache_weight_correlation = {}\n",
    "\n",
    "for user in users:\n",
    "    cache_weight_correlation[user] = {}\n",
    "\n",
    "def get_weight_correlation(user_a, user_i):\n",
    "    if user_a in one_rating_users or user_i in one_rating_users:\n",
    "        return 0.0\n",
    "    \n",
    "    if user_a in cache_weight_correlation[user_i]:\n",
    "        return cache_weight_correlation[user_i][user_a]\n",
    "    if user_i in cache_weight_correlation[user_a]:\n",
    "        return cache_weight_correlation[user_a][user_i]\n",
    "    \n",
    "    numerator_sum = 0.0\n",
    "    denominator_sum_a = 0.0\n",
    "    denominator_sum_i = 0.0\n",
    "\n",
    "    for item_j in ratings[user_a]:\n",
    "        if item_j in ratings[user_i]:\n",
    "            rating_aj = ratings[user_a][item_j]\n",
    "            rating_ij = ratings[user_i][item_j]\n",
    "            delta_a = rating_aj - average_ratings[user_a]\n",
    "            delta_i = rating_ij - average_ratings[user_i]\n",
    "            numerator_sum += delta_a * delta_i\n",
    "            denominator_sum_a += delta_a ** 2\n",
    "            denominator_sum_i += delta_i ** 2\n",
    "    \n",
    "    # the denominator_sum can still be 0, if:\n",
    "    #    1. the two users have no common rating\n",
    "    # or 2. the two users have some common ratings, but for at least one of them, all the common ratings are equal to his/her average rating\n",
    "    #       for example, a user has [3.0, 4.0, 4.0, 5.0], but only has the two \"4.0\"s with the other user in common\n",
    "    # also, by math, if denominator_sum is 0.0, numerator_sum must be 0.0 in the first place\n",
    "    if denominator_sum_a == 0.0 or denominator_sum_i == 0.0:\n",
    "        weight = 0.0\n",
    "    else:\n",
    "        weight = numerator_sum / math.sqrt(denominator_sum_a * denominator_sum_i)\n",
    "    \n",
    "    cache_weight_correlation[user_a][user_i] = weight\n",
    "    return weight"
   ]
  },
  {
   "cell_type": "markdown",
   "metadata": {},
   "source": [
    "The second is to calcuate weight by vector similarity:\n",
    "\n",
    "$$W_{vector\\_similarity}(u,v)=\\sum_i\\frac{R(u,i)}{\\sqrt{\\sum_{j\\in{I_u}}{R(u,i)^2}}}\\frac{R(u,i)}{\\sqrt{\\sum_{j\\in{I_v}}{R(u,i)^2}}}$$"
   ]
  },
  {
   "cell_type": "code",
   "execution_count": 6,
   "metadata": {},
   "outputs": [],
   "source": [
    "# root of sum of square of all the ratings: v1^2 + v2^2 + ...+vN^2\n",
    "# {user: square_sum_rating}\n",
    "root_sum_square_ratings = {}\n",
    "\n",
    "for user in users:\n",
    "    sum_square_ratings = 0.0\n",
    "    for item in ratings[user]:\n",
    "        sum_square_ratings += ratings[user][item] ** 2.0\n",
    "    root = math.sqrt(sum_square_ratings)\n",
    "    root_sum_square_ratings[user] = root\n",
    "#     print 'root of sum of squared ratings of user %d: %f' % (user, root)\n",
    "\n",
    "def get_weight_vector_similarity(user_a, user_i):\n",
    "    res = 0.0\n",
    "    for item in ratings[user_a]:\n",
    "        if item in ratings[user_i]:\n",
    "            a = ratings[user_a][item] / root_sum_square_ratings[user_a]\n",
    "            i = ratings[user_i][item] / root_sum_square_ratings[user_i]\n",
    "            res += a * i\n",
    "    return res"
   ]
  },
  {
   "cell_type": "markdown",
   "metadata": {},
   "source": [
    "Then, the predicted rating of a user $u$ for item $i$, $R*(u,i)$, is a weighted sum of the ratings of the other users:\n",
    "\n",
    "$$R^*(u,i)=Avg_u+k\\sum_{v=1}^nW(u,v)(R(v,i)-Avg_v)$$"
   ]
  },
  {
   "cell_type": "code",
   "execution_count": 7,
   "metadata": {},
   "outputs": [],
   "source": [
    "def fit_rating_range(rating):\n",
    "    if rating < 1.0:\n",
    "        return 1.0\n",
    "    elif rating > 5.0:\n",
    "        return 5.0\n",
    "    return rating\n",
    "\n",
    "def predict_user_based_CF(user_a, item_j, get_weight=get_weight_correlation):\n",
    "    weighted_difference_sum = 0.0\n",
    "    weight_sum = 0.0\n",
    "    \n",
    "    for user_i in users:\n",
    "        if item_j in ratings[user_i]:\n",
    "            weight = get_weight(user_a, user_i)\n",
    "            weight_sum += math.fabs(weight)\n",
    "            weighted_difference_sum += weight * (ratings[user_i][item_j] - average_ratings[user_i])\n",
    "    \n",
    "    predict = average_ratings[user_a]\n",
    "    \n",
    "    if weight_sum != 0.0:\n",
    "        k = 1.0 / weight_sum\n",
    "        predict += k * weighted_difference_sum\n",
    "\n",
    "#     predict = fit_rating_range(predict)\n",
    "    \n",
    "    return predict\n",
    "\n",
    "def predict_user_based_CF_all(get_weight=get_weight_correlation):\n",
    "    predicted_ratings = {}\n",
    "    \n",
    "    for user in tqdm(users):\n",
    "        predicted_ratings[user] = {}\n",
    "        for item in unknown_ratings[user]:\n",
    "            predicted_ratings[user][item] = predict_user_based_CF(user, item, get_weight)\n",
    "\n",
    "    return predicted_ratings"
   ]
  },
  {
   "cell_type": "code",
   "execution_count": 8,
   "metadata": {},
   "outputs": [
    {
     "name": "stderr",
     "output_type": "stream",
     "text": [
      "100%|██████████| 91/91 [00:03<00:00, 24.50it/s]\n"
     ]
    }
   ],
   "source": [
    "predicted_ratings_user_based_CF = predict_user_based_CF_all()"
   ]
  },
  {
   "cell_type": "markdown",
   "metadata": {},
   "source": [
    "### 3.1.2 Matrix Factorization CF\n",
    "\n",
    "After we implemented the neighborhood-based CF as described above, we found it needs too much time to generate recommendations. For the sake of better performance, we also implemented CF using matrix factorization.\n",
    "\n",
    "The basic idea of Matrix factorization CF is to use the existing ratings to learn a model with $k$ latent variables for users and items. In this project, we apply Matrix factorization CF method to predict the unknown ratings by mapping the user-item matrix into latent factors models, and then the predicted rating of item $i$ for user $u$ can be computed as an inner product of the user-factors vector and item-factors vector. This method has been shown to produce increasingly accurate result than heuristic-based methods.\n",
    "\n",
    "We implemented our latent factor model mainly based on the very famous blog article [Try This at Home](http://sifter.org/simon/journal/20061211.html) by Simon Funk.\n",
    "\n",
    "Below is the generation of our latent model:"
   ]
  },
  {
   "cell_type": "code",
   "execution_count": 9,
   "metadata": {},
   "outputs": [],
   "source": [
    "import numpy as np\n",
    "import sys\n",
    "\n",
    "index_to_user = {}\n",
    "user_to_index = {}\n",
    "for index, user in enumerate(list(users)):\n",
    "    index_to_user[index] = user\n",
    "    user_to_index[user] = index\n",
    "\n",
    "index_to_item = {}\n",
    "item_to_index = {}\n",
    "for index, item in enumerate(list(items)):\n",
    "    index_to_item[index] = item\n",
    "    item_to_index[item] = index\n",
    "\n",
    "def predict(U, user_index, M, item_index):\n",
    "    rating = np.dot(U[user_index], M[item_index].T)\n",
    "    return rating\n",
    "\n",
    "# Simon Funk's approach\n",
    "# To prevent overfitting:\n",
    "# 1. no-improvement-in-n strategy\n",
    "# 2. improvement_threshold\n",
    "def generate_LFM(number_of_features, no_improvement_in_n=10, improvement_threshold=0.000001, learning_rate=0.01, K=0.02):\n",
    "    U = np.random.rand(len(users), number_of_features) / math.sqrt(number_of_features)\n",
    "    M = np.random.rand(len(items), number_of_features) / math.sqrt(number_of_features)\n",
    "    \n",
    "    # according to Simon Funker's blog\n",
    "    max_epoches = number_of_features * 120\n",
    "    \n",
    "    min_rmse = sys.float_info.max\n",
    "    min_rmse_epoch = -1\n",
    "    last_rmse = sys.float_info.max\n",
    "    \n",
    "    for epoch in tqdm(range(max_epoches)):\n",
    "        sum_squared_error = 0.0\n",
    "        \n",
    "        for user in users:\n",
    "            user_index = user_to_index[user]\n",
    "            for item in ratings[user]:\n",
    "                item_index = item_to_index[item]\n",
    "                \n",
    "                true_rating = ratings[user][item]\n",
    "                pred_rating = predict(U, user_index, M, item_index)\n",
    "                \n",
    "                error = true_rating - pred_rating\n",
    "                sum_squared_error += np.power(error, 2)\n",
    "                \n",
    "                uv = U[user_index]\n",
    "                mv = M[item_index]\n",
    "                U[user_index] += learning_rate * (error * mv - K * uv)\n",
    "                M[item_index] += learning_rate * (error * uv - K * mv)\n",
    "        \n",
    "        mse = sum_squared_error / number_of_ratings\n",
    "        rmse = math.sqrt(mse)\n",
    "        \n",
    "        if rmse < min_rmse:\n",
    "            min_rmse = rmse\n",
    "            min_rmse_epoch = epoch\n",
    "        else:\n",
    "            if epoch - min_rmse_epoch > no_improvement_in_n:\n",
    "                break\n",
    "        \n",
    "        improvement = last_rmse - rmse\n",
    "        \n",
    "        if epoch % 100 == 99:\n",
    "            print 'epoch #%d, rmse = %f, improvement = %f' % (epoch + 1, rmse, improvement)\n",
    "            \n",
    "        if improvement < improvement_threshold:\n",
    "            print 'converge at #%d epoch, rmse = %f, improvement = %f' % (epoch + 1, rmse, improvement)\n",
    "            break\n",
    "        last_rmse = rmse\n",
    "    \n",
    "    return U, M"
   ]
  },
  {
   "cell_type": "markdown",
   "metadata": {},
   "source": [
    "Then, we can get all the predicted ratings by computing the inner product of the user-factors vector and item-factors vector."
   ]
  },
  {
   "cell_type": "code",
   "execution_count": 10,
   "metadata": {},
   "outputs": [],
   "source": [
    "def predict_matrix_factorization_CF_all(number_of_features=5):\n",
    "    lfm_users, lfm_items = generate_LFM(number_of_features)\n",
    "    predicted_matrix = np.dot(lfm_users, lfm_items.T)\n",
    "    \n",
    "    predicted_ratings = {}\n",
    "    \n",
    "    for user_index in range(len(users)):\n",
    "        user = index_to_user[user_index]\n",
    "        predicted_ratings[user] = {}       \n",
    "        \n",
    "        for item_index in range(len(items)):\n",
    "            item = index_to_item[item_index]\n",
    "            rating = predicted_matrix[user_index][item_index]\n",
    "#             rating = fit_rating_range(rating)            \n",
    "            \n",
    "            predicted_ratings[user][item] = rating\n",
    "    \n",
    "    return predicted_ratings"
   ]
  },
  {
   "cell_type": "code",
   "execution_count": 11,
   "metadata": {},
   "outputs": [
    {
     "name": "stderr",
     "output_type": "stream",
     "text": [
      " 16%|█▋        | 99/600 [00:18<01:34,  5.30it/s]"
     ]
    },
    {
     "name": "stdout",
     "output_type": "stream",
     "text": [
      "epoch #100, rmse = 0.463310, improvement = 0.000694\n"
     ]
    },
    {
     "name": "stderr",
     "output_type": "stream",
     "text": [
      " 33%|███▎      | 199/600 [00:37<01:15,  5.31it/s]"
     ]
    },
    {
     "name": "stdout",
     "output_type": "stream",
     "text": [
      "epoch #200, rmse = 0.426811, improvement = 0.000208\n"
     ]
    },
    {
     "name": "stderr",
     "output_type": "stream",
     "text": [
      " 50%|████▉     | 299/600 [00:56<00:56,  5.30it/s]"
     ]
    },
    {
     "name": "stdout",
     "output_type": "stream",
     "text": [
      "epoch #300, rmse = 0.411926, improvement = 0.000109\n"
     ]
    },
    {
     "name": "stderr",
     "output_type": "stream",
     "text": [
      " 66%|██████▋   | 399/600 [01:15<00:37,  5.31it/s]"
     ]
    },
    {
     "name": "stdout",
     "output_type": "stream",
     "text": [
      "epoch #400, rmse = 0.403217, improvement = 0.000069\n"
     ]
    },
    {
     "name": "stderr",
     "output_type": "stream",
     "text": [
      " 83%|████████▎ | 499/600 [01:34<00:19,  5.29it/s]"
     ]
    },
    {
     "name": "stdout",
     "output_type": "stream",
     "text": [
      "epoch #500, rmse = 0.397562, improvement = 0.000046\n"
     ]
    },
    {
     "name": "stderr",
     "output_type": "stream",
     "text": [
      "100%|█████████▉| 599/600 [01:52<00:00,  5.31it/s]"
     ]
    },
    {
     "name": "stdout",
     "output_type": "stream",
     "text": [
      "epoch #600, rmse = 0.393740, improvement = 0.000032\n"
     ]
    },
    {
     "name": "stderr",
     "output_type": "stream",
     "text": [
      "100%|██████████| 600/600 [01:53<00:00,  5.31it/s]\n"
     ]
    }
   ],
   "source": [
    "predicted_ratings_matrix_factorization_CF = predict_matrix_factorization_CF_all(5)"
   ]
  },
  {
   "cell_type": "code",
   "execution_count": 43,
   "metadata": {},
   "outputs": [],
   "source": [
    "def test_predictions(predicted_ratings):\n",
    "    for user in users:\n",
    "        for item in ratings[user]:\n",
    "            real_rating = ratings[user][item]\n",
    "            pred_rating = predicted_ratings[user][item]\n",
    "            print 'user %d, item %d, real rating = %f, pred rating = %f' % (user, item, real_rating, pred_rating)\n",
    "\n",
    "# test_predictions(predicted_ratings_matrix_factorization_CF)"
   ]
  },
  {
   "cell_type": "markdown",
   "metadata": {},
   "source": [
    "## 3.2. Ranking Algorithms\n",
    "\n",
    "Now we have generated the predicted ratings $R^*(u,i)$ we need. The next step is to generate actual recommendations based on the predicted ratings.\n",
    "\n",
    "For now, we want to achieve maximum accuracy, i.e. select the most relevant items for the user, regardless of the diversity. We introduce the concept of \"ranking function\", which is a mapping from ratings to rankings, i.e. $rank=f(R^*(u,i))$.\n",
    "\n",
    "If $rank(u,i) < rank(u,j)$, where rank is the function representing some ranking criterion based on the estimated ranking, then it means for user $u$, item $i$ is ranked ahead of item $j$, so we prefer to include item $i$ over item $j$ in the recommendations we want to present to user $u$."
   ]
  },
  {
   "cell_type": "markdown",
   "metadata": {},
   "source": [
    "First, we calculate rankings based on the predicted ratings:"
   ]
  },
  {
   "cell_type": "code",
   "execution_count": 13,
   "metadata": {},
   "outputs": [],
   "source": [
    "# taking a ranking function as a parameter,\n",
    "# so that later we can use it to apply \n",
    "# a different ranking function\n",
    "\n",
    "def generate_rank(predicted_ratings, ranking_function):\n",
    "    rank = {}\n",
    "    \n",
    "    for user in users:\n",
    "        rank[user] = {}\n",
    "\n",
    "        for item in unknown_ratings[user]:\n",
    "            rating = predicted_ratings[user][item]\n",
    "            rank[user][item] = ranking_function(rating)\n",
    "    \n",
    "    return rank"
   ]
  },
  {
   "cell_type": "markdown",
   "metadata": {},
   "source": [
    "Then, we sort the rankings for each user:"
   ]
  },
  {
   "cell_type": "code",
   "execution_count": 14,
   "metadata": {},
   "outputs": [],
   "source": [
    "def sort_rank(rank):\n",
    "    sorted_rank = {}\n",
    "    \n",
    "    for user in users:\n",
    "        rank_of_user = rank[user]\n",
    "        sorted_rank[user] = [(item, rank_of_user[item]) for item in sorted(rank_of_user, key=rank_of_user.get)]\n",
    "    \n",
    "    return sorted_rank"
   ]
  },
  {
   "cell_type": "markdown",
   "metadata": {},
   "source": [
    "Once we have all the $rank(u,i)$ of all the $R^*(u,i)$ of a user, we can sort the rankings and make the top $N$ items as the recommendations to the user："
   ]
  },
  {
   "cell_type": "code",
   "execution_count": 15,
   "metadata": {},
   "outputs": [],
   "source": [
    "def get_top_N(sorted_rank, N):\n",
    "    top_N = {}\n",
    "    \n",
    "    for user in users:\n",
    "        top_N[user] = sorted_rank[user][:N]\n",
    "    \n",
    "    return top_N"
   ]
  },
  {
   "cell_type": "markdown",
   "metadata": {},
   "source": [
    "### 3.2.1. Standard Ranking\n",
    "\n",
    "The most basic ranking function is standard ranking. Most recommender system rank the candidate items by their predicted rating value and recommend to each user the top $N$ most relevant items. The definition of this approach could be defined as:\n",
    "\n",
    "$$rank_{Standard}=\\frac{1}{R^*(u,i)}$$\n",
    "\n",
    "The standard ranking approach exhibits good recommendation accuracy, however, its performance in terms of recommendation diversity is poor, which further emphasizes the need to provide other rank approaches for diversity improvement."
   ]
  },
  {
   "cell_type": "markdown",
   "metadata": {},
   "source": [
    "### 3.2.2. Re-Ranking\n",
    "\n",
    "As discussed earlier, standard ranking function usually recommend items with maximum ratings, which is often used to maximize the accuracy of the recommendations.\n",
    "\n",
    "A specific re-ranking can be calculated based on the reverse predicted rating value. This is a personalized yet simple and highly-scalable ranking approach that can be formally defined as:\n",
    "\n",
    "$$rank_{RevPred}(i)=R^*(u,i)$$"
   ]
  },
  {
   "cell_type": "markdown",
   "metadata": {},
   "source": [
    "## 3.3. Recommendation Accuracy and Diversity\n",
    "\n",
    "### 3.3.1 Recommendation Accuracy\n",
    "\n",
    "Our goal is to produce good recommendations with high accuracy and high diversity. Accordingly, we chose to evaluate the accuracy of our top-N recommendations using a very popular metrics, \"precision\".\n",
    "\n",
    "Since precision works with binary outcomes and our data has a numeric rating scale, we need to convert our predicted ratings into binary scale using the notion of \"relevance\".\n",
    "\n",
    "To be more specific, we define if a predicted rating of user $u$ to item $i$ is higher than a pre-defined threshold, we consider the corresponding recommended item to be \"relevant\", otherwise \"irrelevant\". I.e. if $R*(u,i) \\ge T_H$, then item $i$ is relevant for user $u$. We define relevant items as $L_N(u)=\\{i_i, i_2, ..., i_N\\}$, where $R^*(u,i_k) \\ge T_H$ for all $k\\in\\{1,2,...,N\\}$.\n",
    "\n",
    "So, the precision of such top-N recommendations, often referred to as *precisionin-top-N*, is calculated as the percentage of truly \"relevant\" items, as formally defined as:\n",
    "\n",
    "$$precision\\_in\\_top\\_N=\\frac{\\sum_{u\\in{U}}{\\lvert correct(L_N(u))\\rvert}}{\\sum_{u\\in{U}}{\\lvert L_N(u)\\rvert}}$$"
   ]
  },
  {
   "cell_type": "markdown",
   "metadata": {},
   "source": [
    "In real world settings, we can hardly know if our predicted ratings are correct or not, since those data are missing. Fortunately, researchers have found that precision is highly correlated with average predicted rating value of recommended items using for all recommendation algorithms.\n",
    "\n",
    "In other words, recommending items with higher predicted rating values results in higher precision. Therefore, we can use prediction-in-top-N as a simple proxy for precision-in-top-N, thus to approximate the accuracy of the recommendations:\n",
    "\n",
    "$$prediction\\_in\\_top\\_N=\\frac{\\sum_{u\\in{U}}{\\sum_{i\\in{L_N(u)}}R^*(u,i)}}{\\sum_{u\\in{U}}{\\lvert L_N(u)\\rvert}}$$"
   ]
  },
  {
   "cell_type": "markdown",
   "metadata": {},
   "source": [
    "The code below is how we calculate the prediction-in-top-N, give a set of top-N recommendation lists:"
   ]
  },
  {
   "cell_type": "code",
   "execution_count": 16,
   "metadata": {},
   "outputs": [],
   "source": [
    "# Accuracy, in the proxy of predition_in_top_N\n",
    "# An important consequence of this relationship is that we can use \n",
    "# the average predicted rating value of top-N recommendation lists,\n",
    "# which can always be computed at the time of recommendation, as a\n",
    "# simple proxy for the precision metric.\n",
    "def calc_accuracy(predicted_ratings, N, top_N):\n",
    "    sum_pred_rating = 0.0\n",
    "    for user in users:\n",
    "        for item, rating in top_N[user]:\n",
    "            sum_pred_rating += predicted_ratings[user][item]\n",
    "    return sum_pred_rating / (N * len(users))"
   ]
  },
  {
   "cell_type": "markdown",
   "metadata": {},
   "source": [
    "### 3.3.2. Recommendation Diversity\n",
    "\n",
    "As discussed in previous sections, we know that accurate recommendations are not always useful to users. Recommending popular items can easily result in high accuracy, but it may lead to decline other aspects of recommendations such as novelty and serendipity.\n",
    "\n",
    "The inevitable inherent tradeoff between accuracy and diversity has been observed in previous studies, which makes it difficult to improve diversity while maintaining accuracy.\n",
    "\n",
    "The diversity of recommendations can be evaluated at individual or aggregate level. The majority of previous studies focused on individual diversity, but the aggregate diversity of recommendations across all users is also useful for enterprises because it can affect product variety and sales concentration.\n",
    "\n",
    "The aggregate diversity can be assessed in many metrics. In this project, we use a simple absolute long-tail metrix which measures aggregate\n",
    "diversity using the total number of distinct items among the top-N items recommended across all users, referred to as the diversity-in-top-N, as defined in the following:\n",
    "\n",
    "$$diversity\\_in\\_top\\_N=\\lvert\\cup_{u\\in{U}}{L_N(u)}\\rvert$$"
   ]
  },
  {
   "cell_type": "markdown",
   "metadata": {},
   "source": [
    "The code below is how we calculate the diversity-in-top-N, give a set of top-N recommendation lists:"
   ]
  },
  {
   "cell_type": "code",
   "execution_count": 17,
   "metadata": {},
   "outputs": [],
   "source": [
    "# a simple absolute long-tail metric which measures aggregate diversity\n",
    "# using the total number of distinct items among the top-N items\n",
    "# recommended across all users\n",
    "def calc_diversity(top_N):\n",
    "    distinct_items = set()\n",
    "    for user in users:\n",
    "        for item, rank in top_N[user]:\n",
    "            distinct_items.add(item)\n",
    "    return len(distinct_items)"
   ]
  },
  {
   "cell_type": "markdown",
   "metadata": {},
   "source": [
    "## 3.4. Re-Ranking for Diversity\n",
    "\n",
    "We have discussed a basic re-ranking method in 3.2.2, $rank_{RevPred}(i)=R^*(u,i)$. While this re-ranking approach can significantly improve recommendation diversity, as might be expected, this improvement comes at the expense of recommendation accuracy, since not the most highly predicted items are recommended.\n",
    "\n",
    "So, here we present another re-ranking function that is specifically designed for diversity improvement which has been proven effective to improve aggregate diversity with a negligible accuracy loss.\n",
    "\n",
    "The key point is to maintain the balance between diversity and accuracy by parameterizing any ranking function with \"ranking threshold\" $T_R\\in[T_H, T_{max}]$ (where $T_{max}$ is the largest rating on the rating scale). That is, the ranking threshold enables to specify the level of acceptable accuracy loss while still extracting a significant portion of diversity improvement. The parameterized version $rank_{RevPred}(i,T_R)$ of ranking function $rankRevPred(i)$ can be implemented as:\n",
    "\n",
    "$$rank_{RevPred}(i,T_R)=\n",
    "\\begin{cases} \n",
    "      rank_{RevPred}(i), & \\textrm{if } R^*(u,i)\\in[T_R,T_{max}] \\\\\n",
    "      \\alpha_u+rank_{RevPred}(i), & \\textrm{if } R^*(u,i)\\in[T_H,T_R) \\\\\n",
    "\\end{cases}$$\n",
    "\n",
    "where $\\alpha_u=max_{i\\in I^*_u(T_R)}{rank_{RevPred}(i)}$ and $I^*_u(T_R)=\\{i\\in{I} \\mid R^*(u,i) \\ge T_R\\}$."
   ]
  },
  {
   "cell_type": "markdown",
   "metadata": {},
   "source": [
    "According to the piecewise formula above we can generate the parameterized version $rank_{RevPred}(i,T_R)$ as following:"
   ]
  },
  {
   "cell_type": "code",
   "execution_count": 18,
   "metadata": {},
   "outputs": [],
   "source": [
    "def generate_rank_RevPred(predicted_ratings, rank_Standard, rank_RevPred_basic, T_R):\n",
    "    rank = {}\n",
    "\n",
    "    for user in users:\n",
    "        rank[user] = {}\n",
    "\n",
    "        alpha_u = 0.0\n",
    "        for item in unknown_ratings[user]:\n",
    "            if predicted_ratings[user][item] >= T_R and rank_RevPred_basic[user][item] > alpha_u:\n",
    "                alpha_u = rank_RevPred_basic[user][item]\n",
    "\n",
    "        for item in unknown_ratings[user]:\n",
    "            rating = predicted_ratings[user][item]\n",
    "            if rating >= T_R:\n",
    "                rank[user][item] = rank_RevPred_basic[user][item]\n",
    "            else:\n",
    "                rank[user][item] = alpha_u + rank_Standard[user][item]\n",
    "    \n",
    "    return rank"
   ]
  },
  {
   "cell_type": "markdown",
   "metadata": {},
   "source": [
    "# 4. Proposed Approach\n",
    "\n",
    "Graph based algorithm has been used to improve accuracy in CF technologies. Currently, we want to use the graph based algorithm to enhance the diversity of recommendation. Diversity takes great impact on recommendation system. It can help system to recommend various items to users. If we ignore the diversity, we may recommend many common popular items to users which seems to be the same to different users.\n",
    "\n",
    "In this chapter, we formulate the problem of diversity maximization as the famous maximum flow problem in graph theory. Maximum flow problem is a well-known problem in algorithm. We can suppose that $V$ is the set of nodes, and $E$ is set of directed edges between nodes. $G=(V,E)$ is a directed graph with source node $s$ and sink node $t$. In this directed graph, each directed edge has the capacity $c$, which means the max amount of flow each edge can handle. The actual amount of capacity in each edge must not exceed the $c$. And the sum of all flow entering the node must be equal to the leaving flow of the node. The max flow problem is to find the max possible flow from source to sink node.\n",
    "\n",
    "Furthermore, we transform the Top-N recommendation problem to a graph problem. The transformation can be done in three steps.\n",
    "\n",
    "Firstly, we make users and items to nodes. And if the item is relevant to user, the edge from user to item will exist. This means that the item is available for user.\n",
    "\n",
    "Secondly, we set each edge capacity as 1. For the current user and item edge, if item can be recommended to user, the actual value of this edge is 1 otherwise the value is 0. Up to now, the Top-N recommendation problem becomes to the bipartite graph problem, as shown in the following image.\n",
    "\n",
    "![Bipartite Graph](img/figure1.jpg)"
   ]
  },
  {
   "cell_type": "markdown",
   "metadata": {},
   "source": [
    "Thirdly, we can add the source node and sink node to the bipartite graph. We let the capacity of source edge as any integer from 0 to N, and the edges from sink node to item node have capacity of 1. Up to now the graph has been established, as shown in the image below.\n",
    "\n",
    "![Bipartite Graph](img/figure3.jpg)"
   ]
  },
  {
   "cell_type": "markdown",
   "metadata": {},
   "source": [
    "The graph totally shows the Top-N recommendation problem. Based on the graph construction, the source edges can allow flower larger than N for each user node and each user node cannot be recommended more than N items. On the other hand, the max flow problem will count how the max possible number of recommendations can be in all users and items.\n",
    "\n",
    "The max flow problem can help us find the max possible number of items to be recommended, which to some extent help improve the diversity. Finding the maximum flow can actually find largest recommendations because of the constrictions from graph structure. However, some users in max flow solutions still have fewer than N items to be recommended. Thus, we need to handle remaining problems. We can use the standard ranking for those specific users and recommend some items to them for achieving better accuracy. The flow graph made for the diversity maximum is a specialized graph compared to the traditional max flow problem.\n",
    "\n",
    "We will take a specific example of this graph. In the Top-N recommendation problem, we can consider the N to be 1. As each user can be recommended only 1 item, all of the edges will become single unit edges. The max flow will change to the max possible set of user to items because no user or item can be added more than 1 nodes. Thus, the max flow problem becomes to the bipartite matching problem.\n",
    "\n",
    "The max flow solution has two components: 1. We find the max possible diversity from the max flow problem and bipartite matching problem. 2. We complete the Top-N recommendations from the standard ranking method. As we know, the max diversity in component 1 will make some reduction of accuracy, we will make the balance between accuracy and diversity. This is based on the number of rating threshold which can be adapted. When we enhance the threshold, we can get the higher accuracy but lower diversity, and when we decrease the threshold, we can get lower accuracy but higher diversity. "
   ]
  },
  {
   "cell_type": "markdown",
   "metadata": {},
   "source": [
    "According to the definition of problem transformation, we can build the flow graph with the help of a third-party library NetworkX:"
   ]
  },
  {
   "cell_type": "code",
   "execution_count": 19,
   "metadata": {},
   "outputs": [],
   "source": [
    "# add a prefix to the node name in the graph\n",
    "# since user id and item id may overlap\n",
    "\n",
    "user_strs = {}\n",
    "item_strs = {}\n",
    "\n",
    "for user in users:\n",
    "    user_strs[user] = 'user_' + str(user)\n",
    "    \n",
    "for item in items:\n",
    "    item_strs[item] = 'item_' + str(item)\n",
    "    \n",
    "import networkx as nx\n",
    "\n",
    "def generate_flow_graph(predicted_ratings, N, T_F):\n",
    "    G = nx.DiGraph()\n",
    "    \n",
    "    for user in users:\n",
    "        G.add_edge('source', user_strs[user], capacity=N)\n",
    "    \n",
    "    for item in items:\n",
    "        G.add_edge(item_strs[item], 'sink', capacity=1)\n",
    "\n",
    "    for user in users:        \n",
    "        for item in unknown_ratings[user]:            \n",
    "            rating = predicted_ratings[user][item]\n",
    "            if T_F <= rating:\n",
    "                G.add_edge(user_strs[user], item_strs[item], capacity=1)\n",
    "    \n",
    "    return G"
   ]
  },
  {
   "cell_type": "markdown",
   "metadata": {},
   "source": [
    "Solve the maximum flow problem:"
   ]
  },
  {
   "cell_type": "code",
   "execution_count": 20,
   "metadata": {},
   "outputs": [],
   "source": [
    "def solve_maximum_flow(G):\n",
    "    flow_value, flow_dict = nx.algorithms.flow.maxflow.maximum_flow(G, 'source', 'sink')\n",
    "    return flow_dict"
   ]
  },
  {
   "cell_type": "markdown",
   "metadata": {},
   "source": [
    "Transform the maximum flow solution back to recommendations:"
   ]
  },
  {
   "cell_type": "code",
   "execution_count": 21,
   "metadata": {},
   "outputs": [],
   "source": [
    "# translate the maximum-flow result back to recommendations\n",
    "def get_recommendations_from_flow_dict(flow_dict):\n",
    "    recommendations = {}\n",
    "\n",
    "    for user in users:\n",
    "        recommendations[user] = set()\n",
    "        for item_str, flow in flow_dict[user_strs[user]].iteritems():\n",
    "            if flow == 1:\n",
    "                recommendations[user].add(int(item_str[5:]))\n",
    "    \n",
    "    return recommendations"
   ]
  },
  {
   "cell_type": "markdown",
   "metadata": {},
   "source": [
    "Use standard ranking to backfill, and complete the Top-N recommendations:"
   ]
  },
  {
   "cell_type": "code",
   "execution_count": 22,
   "metadata": {},
   "outputs": [],
   "source": [
    "# complete top-N recommendations by applying the standard ranking approach\n",
    "def complete_recommendations(sorted_rank_Standard, N, recommendations):\n",
    "    for user in users:\n",
    "        for item, rank in sorted_rank_Standard[user]:\n",
    "            if len(recommendations[user]) < N:\n",
    "                if item not in recommendations[user]:\n",
    "                    recommendations[user].add(item)\n",
    "            else:\n",
    "                break\n",
    "    \n",
    "    return recommendations"
   ]
  },
  {
   "cell_type": "markdown",
   "metadata": {},
   "source": [
    "Finally, generate sorted rank based on the recommendations:"
   ]
  },
  {
   "cell_type": "code",
   "execution_count": 23,
   "metadata": {},
   "outputs": [],
   "source": [
    "def get_sorted_rank(predicted_ratings, recommendations):\n",
    "    sorted_rank = {}\n",
    "    \n",
    "    for user in users:\n",
    "        sorted_rank[user] = sorted([(item, predicted_ratings[user][item]) for item in recommendations[user]])\n",
    "    \n",
    "    return sorted_rank"
   ]
  },
  {
   "cell_type": "markdown",
   "metadata": {},
   "source": [
    "For the `sorted_rank` it returns, we can still apply `get_top_N`, `calc_accuracy` and `calc_diversity` just as before.\n",
    "\n",
    "Thus, we finished the proposed solution.\n",
    "\n",
    "In summary, we first transform the Top-N recommendations problem to maximum flow problem, then we solve the maximum flow problem, use standard ranking to complete recommendations and generate the sorted rank."
   ]
  },
  {
   "cell_type": "markdown",
   "metadata": {},
   "source": [
    "# 5. Evaluation and Discussion\n",
    "\n",
    "In this chapter we will evaluate our project by comparing the original method without any consideration of improving diversity ($rank_{Standard}$), the baseline method ($rank_{RevPred}$) and the proposed approach (graph-based algorithm)."
   ]
  },
  {
   "cell_type": "markdown",
   "metadata": {},
   "source": [
    "We use the following code to test standard ranking:"
   ]
  },
  {
   "cell_type": "code",
   "execution_count": 24,
   "metadata": {},
   "outputs": [],
   "source": [
    "def test_Standard(predicted_ratings, N):\n",
    "    accuracies = []\n",
    "    diversities = []\n",
    "    \n",
    "    rank = generate_rank(predicted_ratings, lambda rating: 1.0 / rating)\n",
    "    sorted_rank = sort_rank(rank)\n",
    "    top_N = get_top_N(sorted_rank, N)\n",
    "    \n",
    "    accuracies.append(calc_accuracy(predicted_ratings, N, top_N))\n",
    "    diversities.append(calc_diversity(top_N))\n",
    "    \n",
    "    return accuracies, diversities"
   ]
  },
  {
   "cell_type": "markdown",
   "metadata": {},
   "source": [
    "We use the following code to test the basic RevPred ranking without $T_R$:"
   ]
  },
  {
   "cell_type": "code",
   "execution_count": 25,
   "metadata": {},
   "outputs": [],
   "source": [
    "def test_RevPred_basic(predicted_ratings, N):\n",
    "    accuracies = []\n",
    "    diversities = []\n",
    "    \n",
    "    rank = generate_rank(predicted_ratings, lambda rating: rating)\n",
    "    sorted_rank = sort_rank(rank)\n",
    "    top_N = get_top_N(sorted_rank, N)\n",
    "\n",
    "    accuracies.append(calc_accuracy(predicted_ratings, N, top_N))\n",
    "    diversities.append(calc_diversity(top_N))\n",
    "\n",
    "    return accuracies, diversities"
   ]
  },
  {
   "cell_type": "markdown",
   "metadata": {},
   "source": [
    "We use the following code to test the RevPred ranking with $T_R$ that we actually used for baseline comparison:"
   ]
  },
  {
   "cell_type": "code",
   "execution_count": 26,
   "metadata": {},
   "outputs": [],
   "source": [
    "def test_RevPred(predicted_ratings, N, rank_Standard, rank_RevPred_basic, T_R):\n",
    "    rank = generate_rank_RevPred(predicted_ratings, rank_Standard, rank_RevPred_basic, T_R)\n",
    "    sorted_rank = sort_rank(rank)\n",
    "    top_N = get_top_N(sorted_rank, N)\n",
    "\n",
    "    accuracy = calc_accuracy(predicted_ratings, N, top_N)\n",
    "    diversity = calc_diversity(top_N)\n",
    "    \n",
    "    return accuracy, diversity"
   ]
  },
  {
   "cell_type": "markdown",
   "metadata": {},
   "source": [
    "We need to test it using different values of $T_R$. Because different values of $T_R$ will result in different accuracy and diversity:"
   ]
  },
  {
   "cell_type": "code",
   "execution_count": 27,
   "metadata": {},
   "outputs": [],
   "source": [
    "def test_RevPred_all(predicted_ratings, N, rank_Standard, rank_RevPred_basic, T_R_min, T_R_max, step_len):\n",
    "    accuracies = []\n",
    "    diversities = []\n",
    "    \n",
    "    T_R = T_R_min\n",
    "    while T_R <= T_R_max:\n",
    "        accuracy, diversity = test_RevPred(predicted_ratings, N, rank_Standard, rank_RevPred_basic, T_R)\n",
    "        accuracies.append(accuracy)\n",
    "        diversities.append(diversity)\n",
    "        T_R += step_len\n",
    "    \n",
    "    return accuracies, diversities"
   ]
  },
  {
   "cell_type": "markdown",
   "metadata": {},
   "source": [
    "Next, we test the proposed solution:"
   ]
  },
  {
   "cell_type": "code",
   "execution_count": 28,
   "metadata": {},
   "outputs": [],
   "source": [
    "def test_proposed_solution(predicted_ratings, N, sorted_rank_Standard, T_F):\n",
    "    G = generate_flow_graph(predicted_ratings, N, T_F)\n",
    "    flow_dict = solve_maximum_flow(G)\n",
    "    recommendations = get_recommendations_from_flow_dict(flow_dict)\n",
    "    recommendations = complete_recommendations(sorted_rank_Standard, N, recommendations)\n",
    "    \n",
    "    sorted_rank = get_sorted_rank(predicted_ratings, recommendations)\n",
    "    top_N = get_top_N(sorted_rank, N)\n",
    "    \n",
    "    accuracy = calc_accuracy(predicted_ratings, N, top_N)\n",
    "    diversity = calc_diversity(top_N)\n",
    "    \n",
    "    return accuracy, diversity"
   ]
  },
  {
   "cell_type": "markdown",
   "metadata": {},
   "source": [
    "We need to test it using different values of $T_F$ to see what accuracy and diversity it can achieve in different circumstances:"
   ]
  },
  {
   "cell_type": "code",
   "execution_count": 29,
   "metadata": {},
   "outputs": [],
   "source": [
    "def test_proposed_solution_all(predicted_ratings, N, sorted_rank_Standard, T_F_min, T_F_max, step_len):\n",
    "    accuracies = []\n",
    "    diversities = []\n",
    "    \n",
    "    T_F = T_F_min\n",
    "    while T_F <= T_F_max:\n",
    "        accuracy, diversity = test_proposed_solution(predicted_ratings, N, sorted_rank_Standard, T_F)\n",
    "        accuracies.append(accuracy)\n",
    "        diversities.append(diversity)\n",
    "        T_F += step_len\n",
    "    \n",
    "    return accuracies, diversities"
   ]
  },
  {
   "cell_type": "code",
   "execution_count": 39,
   "metadata": {},
   "outputs": [],
   "source": [
    "import matplotlib.pyplot as plt\n",
    "\n",
    "def test_all(predicted_ratings, N_list, title_base):\n",
    "    rank_Standard = generate_rank(predicted_ratings, lambda rating: 1.0 / rating)\n",
    "    sorted_rank_Standard = sort_rank(rank_Standard)\n",
    "    rank_RevPred_basic = generate_rank(predicted_ratings, lambda rating: rating)\n",
    "    \n",
    "    for N in N_list:\n",
    "        accuracy_Standard, diversity_Standard = test_Standard(predicted_ratings, N)\n",
    "        accuracies_RevPred, diversities_RevPred = test_RevPred_all(predicted_ratings, N, rank_Standard, rank_RevPred_basic, 3.0, 4.0, 0.1)\n",
    "        accuracies_proposed_solution, diversities_proposed_solution = test_proposed_solution_all(predicted_ratings, N, sorted_rank_Standard, 3.0, 5.0, 0.1)\n",
    "\n",
    "        plt.plot(diversity_Standard, accuracy_Standard, label='Standard', color='red', marker='s', markersize=10)\n",
    "        plt.plot(diversities_RevPred, accuracies_RevPred, label='Rev Predition Ranking', marker='x')\n",
    "        plt.plot(diversities_proposed_solution, accuracies_proposed_solution, label='Graph-based Approach', color='purple', marker='x')\n",
    "\n",
    "        plt.xlabel('Diversity-in-top-N')\n",
    "        plt.ylabel('Accuracy (Prediction-in-top-N)')\n",
    "    #     plt.ylim(ymax = accuracy_Standard[0]+0.1, ymin = 4.0)\n",
    "    \n",
    "        plt.title(title_base + ', Top-' + str(N) + ' task')\n",
    "\n",
    "        plt.legend(bbox_to_anchor=(1.0, 0.0), loc=3)\n",
    "        plt.show()"
   ]
  },
  {
   "cell_type": "code",
   "execution_count": 40,
   "metadata": {},
   "outputs": [],
   "source": [
    "N_list = [10, 50, 100]"
   ]
  },
  {
   "cell_type": "code",
   "execution_count": 41,
   "metadata": {},
   "outputs": [
    {
     "data": {
      "image/png": "[encoded data removed]",
      "text/plain": [
       "<Figure size 432x288 with 1 Axes>"
      ]
     },
     "metadata": {},
     "output_type": "display_data"
    },
    {
     "data": {
      "image/png": "[encoded data removed]",
      "text/plain": [
       "<Figure size 432x288 with 1 Axes>"
      ]
     },
     "metadata": {},
     "output_type": "display_data"
    },
    {
     "data": {
      "image/png": "[encoded data removed]",
      "text/plain": [
       "<Figure size 432x288 with 1 Axes>"
      ]
     },
     "metadata": {},
     "output_type": "display_data"
    }
   ],
   "source": [
    "test_all(predicted_ratings_user_based_CF, N_list, 'User-based CF')"
   ]
  },
  {
   "cell_type": "code",
   "execution_count": 42,
   "metadata": {},
   "outputs": [
    {
     "data": {
      "image/png": "[encoded data removed]",
      "text/plain": [
       "<Figure size 432x288 with 1 Axes>"
      ]
     },
     "metadata": {},
     "output_type": "display_data"
    },
    {
     "data": {
      "image/png": "[encoded data removed]",
      "text/plain": [
       "<Figure size 432x288 with 1 Axes>"
      ]
     },
     "metadata": {},
     "output_type": "display_data"
    },
    {
     "data": {
      "image/png": "[encoded data removed]",
      "text/plain": [
       "<Figure size 432x288 with 1 Axes>"
      ]
     },
     "metadata": {},
     "output_type": "display_data"
    }
   ],
   "source": [
    "test_all(predicted_ratings_matrix_factorization_CF, N_list, 'Matrix Factorization')"
   ]
  },
  {
   "cell_type": "markdown",
   "metadata": {},
   "source": [
    "From the evaluation, we can see that the proposed graph-based approach approach can greatly improve aggregate diversity at a very small sacrifice of accuracy."
   ]
  },
  {
   "cell_type": "markdown",
   "metadata": {},
   "source": [
    "# 6 Conclusion\n",
    "\n",
    "In this project, we implemented a novel algorithm that transforms the problem of maxmizing aggregate diversity into a maximum flow problem. The evaluation proved it to be effective."
   ]
  },
  {
   "cell_type": "code",
   "execution_count": null,
   "metadata": {},
   "outputs": [],
   "source": []
  },
  {
   "cell_type": "code",
   "execution_count": null,
   "metadata": {},
   "outputs": [],
   "source": []
  }
 ],
 "metadata": {
  "kernelspec": {
   "display_name": "Python 2",
   "language": "python",
   "name": "python2"
  },
  "language_info": {
   "codemirror_mode": {
    "name": "ipython",
    "version": 2
   },
   "file_extension": ".py",
   "mimetype": "text/x-python",
   "name": "python",
   "nbconvert_exporter": "python",
   "pygments_lexer": "ipython2",
   "version": "2.7.14"
  }
 },
 "nbformat": 4,
 "nbformat_minor": 2
}
